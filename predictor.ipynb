{
 "cells": [
  {
   "cell_type": "code",
   "execution_count": 1,
   "metadata": {
    "_cell_guid": "b1076dfc-b9ad-4769-8c92-a6c4dae69d19",
    "_uuid": "8f2839f25d086af736a60e9eeb907d3b93b6e0e5",
    "execution": {
     "iopub.execute_input": "2021-09-20T22:07:46.728416Z",
     "iopub.status.busy": "2021-09-20T22:07:46.727836Z",
     "iopub.status.idle": "2021-09-20T22:07:46.733927Z",
     "shell.execute_reply": "2021-09-20T22:07:46.733244Z",
     "shell.execute_reply.started": "2021-09-20T22:07:46.728378Z"
    },
    "id": "KaZmXVwtQ6dY",
    "papermill": {
     "duration": 7.53926,
     "end_time": "2021-09-03T21:55:55.583569",
     "exception": false,
     "start_time": "2021-09-03T21:55:48.044309",
     "status": "completed"
    },
    "tags": []
   },
   "outputs": [],
   "source": [
    "import numpy as np\n",
    "import pandas as pd\n",
    "import math\n",
    "from sklearn.utils import shuffle\n",
    "from sklearn.linear_model import Ridge\n",
    "from numpy import nan as na\n",
    "from sklearn.preprocessing import StandardScaler, PolynomialFeatures"
   ]
  },
  {
   "cell_type": "code",
   "execution_count": 2,
   "metadata": {
    "execution": {
     "iopub.execute_input": "2021-09-20T22:07:46.785691Z",
     "iopub.status.busy": "2021-09-20T22:07:46.785200Z",
     "iopub.status.idle": "2021-09-20T22:07:50.172612Z",
     "shell.execute_reply": "2021-09-20T22:07:50.171753Z",
     "shell.execute_reply.started": "2021-09-20T22:07:46.785649Z"
    },
    "id": "fz-_AJvtQ6dh",
    "papermill": {
     "duration": 3.662358,
     "end_time": "2021-09-03T21:55:59.782918",
     "exception": false,
     "start_time": "2021-09-03T21:55:56.12056",
     "status": "completed"
    },
    "tags": []
   },
   "outputs": [],
   "source": [
    "df = pd.read_csv('Train.csv')"
   ]
  },
  {
   "cell_type": "markdown",
   "metadata": {
    "id": "KPmPTQidXheY"
   },
   "source": [
    "FEATURE GENERATION"
   ]
  },
  {
   "cell_type": "code",
   "execution_count": 3,
   "metadata": {
    "execution": {
     "iopub.execute_input": "2021-09-20T22:07:50.256913Z",
     "iopub.status.busy": "2021-09-20T22:07:50.256592Z",
     "iopub.status.idle": "2021-09-20T22:07:50.277794Z",
     "shell.execute_reply": "2021-09-20T22:07:50.276577Z",
     "shell.execute_reply.started": "2021-09-20T22:07:50.256882Z"
    },
    "id": "zjjyf1qbQ6dk"
   },
   "outputs": [],
   "source": [
    "def generate_features(df):\n",
    "    df['percent_change_24h']/=100\n",
    "    df['p24'] = df.open * ((df.percent_change_24h/24)+1) # prediction using 24 hour value\n",
    "    df.market_cap/=1000000000\n",
    "    df.market_cap_global/=1000000000\n",
    "    df['mid'] = (df['high'] * 0.5) + (df['low']* 0.5) \n",
    "    df['mo'] = df.mid / df.open # MO IS MID DIV BY OPEN\n",
    "    df['ho'] = df.high / df.open\n",
    "    df['mr'] = df.market_cap / df.market_cap_global # MR IS MARKET RATIO\n",
    "    df['meanmo'] =  df[['mid','open']].mean(axis=1) # MEAN OF MID AND OPEN\n",
    "    df['predmr'] = df.open * df.mr\n",
    "    df['predmeanmo'] = df.open * df.meanmo\n",
    "    df['e'] = (df.mid>df.open).astype('int') # MID GREATER THAN OPEN?\n",
    "    df.fillna(0, inplace=True)\n",
    "    return df"
   ]
  },
  {
   "cell_type": "code",
   "execution_count": 4,
   "metadata": {
    "execution": {
     "iopub.execute_input": "2021-09-20T22:07:51.435605Z",
     "iopub.status.busy": "2021-09-20T22:07:51.435316Z",
     "iopub.status.idle": "2021-09-20T22:07:51.458225Z",
     "shell.execute_reply": "2021-09-20T22:07:51.457267Z",
     "shell.execute_reply.started": "2021-09-20T22:07:51.435577Z"
    },
    "id": "frvru5xQQ6dt",
    "papermill": {
     "duration": 0.079106,
     "end_time": "2021-09-03T21:56:00.800371",
     "exception": false,
     "start_time": "2021-09-03T21:56:00.721265",
     "status": "completed"
    },
    "tags": []
   },
   "outputs": [],
   "source": [
    "train_df = generate_features(df)\n",
    "train_df = train_df[train_df['close'].notna()]\n",
    "train_df = train_df[train_df.close <= train_df.high]\n",
    "train_df = train_df[train_df.close >= train_df.low]"
   ]
  },
  {
   "cell_type": "markdown",
   "metadata": {
    "id": "SrKqrMLAYUO_"
   },
   "source": [
    "USE MORE UNIQUE FEATURES TO TRAIN MODEL"
   ]
  },
  {
   "cell_type": "code",
   "execution_count": 5,
   "metadata": {
    "execution": {
     "iopub.execute_input": "2021-09-20T22:07:51.490712Z",
     "iopub.status.busy": "2021-09-20T22:07:51.490402Z",
     "iopub.status.idle": "2021-09-20T22:07:51.496456Z",
     "shell.execute_reply": "2021-09-20T22:07:51.495386Z",
     "shell.execute_reply.started": "2021-09-20T22:07:51.490675Z"
    },
    "id": "wKEGxXSNQ6dt"
   },
   "outputs": [],
   "source": [
    "cols =['open', 'predmeanmo', 'market_cap_global', 'e',\n",
    "       'percent_change_24h' ,'p24' ,'ho' ,'mo' ,'mid',\n",
    "       'market_cap', 'predmr' ,'mr'] "
   ]
  },
  {
   "cell_type": "markdown",
   "metadata": {
    "id": "juXodvKWYwB-"
   },
   "source": [
    "CREATE POLYNOMIAL FEATURES"
   ]
  },
  {
   "cell_type": "code",
   "execution_count": 6,
   "metadata": {
    "execution": {
     "iopub.execute_input": "2021-09-20T22:07:51.531587Z",
     "iopub.status.busy": "2021-09-20T22:07:51.531251Z",
     "iopub.status.idle": "2021-09-20T22:07:51.568517Z",
     "shell.execute_reply": "2021-09-20T22:07:51.567522Z",
     "shell.execute_reply.started": "2021-09-20T22:07:51.531557Z"
    },
    "id": "5jbStODwQ6du"
   },
   "outputs": [],
   "source": [
    "pf = PolynomialFeatures(degree = 2, include_bias = False, interaction_only = False)"
   ]
  },
  {
   "cell_type": "markdown",
   "metadata": {
    "id": "izBYHcOKYx5C"
   },
   "source": [
    "SCALE FEATURES"
   ]
  },
  {
   "cell_type": "code",
   "execution_count": 7,
   "metadata": {
    "execution": {
     "iopub.execute_input": "2021-09-20T22:07:51.570313Z",
     "iopub.status.busy": "2021-09-20T22:07:51.569826Z",
     "iopub.status.idle": "2021-09-20T22:07:51.595138Z",
     "shell.execute_reply": "2021-09-20T22:07:51.594377Z",
     "shell.execute_reply.started": "2021-09-20T22:07:51.570243Z"
    },
    "id": "rh5PPMbhQ6du"
   },
   "outputs": [],
   "source": [
    "sc = StandardScaler()"
   ]
  },
  {
   "cell_type": "markdown",
   "metadata": {
    "id": "jrNpnIdAY3MJ"
   },
   "source": [
    "FIT MODEL TO WHOLE TRAIN SET"
   ]
  },
  {
   "cell_type": "code",
   "execution_count": 8,
   "metadata": {
    "colab": {
     "base_uri": "https://localhost:8080/"
    },
    "execution": {
     "iopub.execute_input": "2021-09-20T22:07:51.596704Z",
     "iopub.status.busy": "2021-09-20T22:07:51.596247Z",
     "iopub.status.idle": "2021-09-20T22:07:51.742867Z",
     "shell.execute_reply": "2021-09-20T22:07:51.741726Z",
     "shell.execute_reply.started": "2021-09-20T22:07:51.596658Z"
    },
    "id": "H6g_UQ_6Q6dv",
    "outputId": "e0b53a4e-b8c1-4f77-a71b-4691502676b6"
   },
   "outputs": [
    {
     "name": "stderr",
     "output_type": "stream",
     "text": [
      "C:\\Users\\hp\\anaconda3\\lib\\site-packages\\sklearn\\linear_model\\_base.py:148: FutureWarning: 'normalize' was deprecated in version 1.0 and will be removed in 1.2. Please leave the normalize parameter to its default value to silence this warning. The default behavior of this estimator is to not do any normalization. If normalization is needed please use sklearn.preprocessing.StandardScaler instead.\n",
      "  warnings.warn(\n"
     ]
    },
    {
     "data": {
      "text/html": [
       "<style>#sk-container-id-1 {color: black;background-color: white;}#sk-container-id-1 pre{padding: 0;}#sk-container-id-1 div.sk-toggleable {background-color: white;}#sk-container-id-1 label.sk-toggleable__label {cursor: pointer;display: block;width: 100%;margin-bottom: 0;padding: 0.3em;box-sizing: border-box;text-align: center;}#sk-container-id-1 label.sk-toggleable__label-arrow:before {content: \"▸\";float: left;margin-right: 0.25em;color: #696969;}#sk-container-id-1 label.sk-toggleable__label-arrow:hover:before {color: black;}#sk-container-id-1 div.sk-estimator:hover label.sk-toggleable__label-arrow:before {color: black;}#sk-container-id-1 div.sk-toggleable__content {max-height: 0;max-width: 0;overflow: hidden;text-align: left;background-color: #f0f8ff;}#sk-container-id-1 div.sk-toggleable__content pre {margin: 0.2em;color: black;border-radius: 0.25em;background-color: #f0f8ff;}#sk-container-id-1 input.sk-toggleable__control:checked~div.sk-toggleable__content {max-height: 200px;max-width: 100%;overflow: auto;}#sk-container-id-1 input.sk-toggleable__control:checked~label.sk-toggleable__label-arrow:before {content: \"▾\";}#sk-container-id-1 div.sk-estimator input.sk-toggleable__control:checked~label.sk-toggleable__label {background-color: #d4ebff;}#sk-container-id-1 div.sk-label input.sk-toggleable__control:checked~label.sk-toggleable__label {background-color: #d4ebff;}#sk-container-id-1 input.sk-hidden--visually {border: 0;clip: rect(1px 1px 1px 1px);clip: rect(1px, 1px, 1px, 1px);height: 1px;margin: -1px;overflow: hidden;padding: 0;position: absolute;width: 1px;}#sk-container-id-1 div.sk-estimator {font-family: monospace;background-color: #f0f8ff;border: 1px dotted black;border-radius: 0.25em;box-sizing: border-box;margin-bottom: 0.5em;}#sk-container-id-1 div.sk-estimator:hover {background-color: #d4ebff;}#sk-container-id-1 div.sk-parallel-item::after {content: \"\";width: 100%;border-bottom: 1px solid gray;flex-grow: 1;}#sk-container-id-1 div.sk-label:hover label.sk-toggleable__label {background-color: #d4ebff;}#sk-container-id-1 div.sk-serial::before {content: \"\";position: absolute;border-left: 1px solid gray;box-sizing: border-box;top: 0;bottom: 0;left: 50%;z-index: 0;}#sk-container-id-1 div.sk-serial {display: flex;flex-direction: column;align-items: center;background-color: white;padding-right: 0.2em;padding-left: 0.2em;position: relative;}#sk-container-id-1 div.sk-item {position: relative;z-index: 1;}#sk-container-id-1 div.sk-parallel {display: flex;align-items: stretch;justify-content: center;background-color: white;position: relative;}#sk-container-id-1 div.sk-item::before, #sk-container-id-1 div.sk-parallel-item::before {content: \"\";position: absolute;border-left: 1px solid gray;box-sizing: border-box;top: 0;bottom: 0;left: 50%;z-index: -1;}#sk-container-id-1 div.sk-parallel-item {display: flex;flex-direction: column;z-index: 1;position: relative;background-color: white;}#sk-container-id-1 div.sk-parallel-item:first-child::after {align-self: flex-end;width: 50%;}#sk-container-id-1 div.sk-parallel-item:last-child::after {align-self: flex-start;width: 50%;}#sk-container-id-1 div.sk-parallel-item:only-child::after {width: 0;}#sk-container-id-1 div.sk-dashed-wrapped {border: 1px dashed gray;margin: 0 0.4em 0.5em 0.4em;box-sizing: border-box;padding-bottom: 0.4em;background-color: white;}#sk-container-id-1 div.sk-label label {font-family: monospace;font-weight: bold;display: inline-block;line-height: 1.2em;}#sk-container-id-1 div.sk-label-container {text-align: center;}#sk-container-id-1 div.sk-container {/* jupyter's `normalize.less` sets `[hidden] { display: none; }` but bootstrap.min.css set `[hidden] { display: none !important; }` so we also need the `!important` here to be able to override the default hidden behavior on the sphinx rendered scikit-learn.org. See: https://github.com/scikit-learn/scikit-learn/issues/21755 */display: inline-block !important;position: relative;}#sk-container-id-1 div.sk-text-repr-fallback {display: none;}</style><div id=\"sk-container-id-1\" class=\"sk-top-container\"><div class=\"sk-text-repr-fallback\"><pre>Ridge(alpha=0, normalize=False)</pre><b>In a Jupyter environment, please rerun this cell to show the HTML representation or trust the notebook. <br />On GitHub, the HTML representation is unable to render, please try loading this page with nbviewer.org.</b></div><div class=\"sk-container\" hidden><div class=\"sk-item\"><div class=\"sk-estimator sk-toggleable\"><input class=\"sk-toggleable__control sk-hidden--visually\" id=\"sk-estimator-id-1\" type=\"checkbox\" checked><label for=\"sk-estimator-id-1\" class=\"sk-toggleable__label sk-toggleable__label-arrow\">Ridge</label><div class=\"sk-toggleable__content\"><pre>Ridge(alpha=0, normalize=False)</pre></div></div></div></div></div>"
      ],
      "text/plain": [
       "Ridge(alpha=0, normalize=False)"
      ]
     },
     "execution_count": 8,
     "metadata": {},
     "output_type": "execute_result"
    }
   ],
   "source": [
    "model = Ridge(alpha=0, copy_X=True, fit_intercept=True, max_iter=None, normalize=False,\n",
    "      random_state=None, solver='auto', tol=0.001)\n",
    "model.fit(sc.fit_transform(pf.fit_transform(train_df[cols])),train_df.close)                    "
   ]
  },
  {
   "cell_type": "code",
   "execution_count": 9,
   "metadata": {
    "colab": {
     "base_uri": "https://localhost:8080/"
    },
    "id": "2Svh8x5LSUVK",
    "outputId": "f580d0c2-0406-4667-c621-12d3e79537f4"
   },
   "outputs": [
    {
     "data": {
      "text/html": [
       "<style>#sk-container-id-2 {color: black;background-color: white;}#sk-container-id-2 pre{padding: 0;}#sk-container-id-2 div.sk-toggleable {background-color: white;}#sk-container-id-2 label.sk-toggleable__label {cursor: pointer;display: block;width: 100%;margin-bottom: 0;padding: 0.3em;box-sizing: border-box;text-align: center;}#sk-container-id-2 label.sk-toggleable__label-arrow:before {content: \"▸\";float: left;margin-right: 0.25em;color: #696969;}#sk-container-id-2 label.sk-toggleable__label-arrow:hover:before {color: black;}#sk-container-id-2 div.sk-estimator:hover label.sk-toggleable__label-arrow:before {color: black;}#sk-container-id-2 div.sk-toggleable__content {max-height: 0;max-width: 0;overflow: hidden;text-align: left;background-color: #f0f8ff;}#sk-container-id-2 div.sk-toggleable__content pre {margin: 0.2em;color: black;border-radius: 0.25em;background-color: #f0f8ff;}#sk-container-id-2 input.sk-toggleable__control:checked~div.sk-toggleable__content {max-height: 200px;max-width: 100%;overflow: auto;}#sk-container-id-2 input.sk-toggleable__control:checked~label.sk-toggleable__label-arrow:before {content: \"▾\";}#sk-container-id-2 div.sk-estimator input.sk-toggleable__control:checked~label.sk-toggleable__label {background-color: #d4ebff;}#sk-container-id-2 div.sk-label input.sk-toggleable__control:checked~label.sk-toggleable__label {background-color: #d4ebff;}#sk-container-id-2 input.sk-hidden--visually {border: 0;clip: rect(1px 1px 1px 1px);clip: rect(1px, 1px, 1px, 1px);height: 1px;margin: -1px;overflow: hidden;padding: 0;position: absolute;width: 1px;}#sk-container-id-2 div.sk-estimator {font-family: monospace;background-color: #f0f8ff;border: 1px dotted black;border-radius: 0.25em;box-sizing: border-box;margin-bottom: 0.5em;}#sk-container-id-2 div.sk-estimator:hover {background-color: #d4ebff;}#sk-container-id-2 div.sk-parallel-item::after {content: \"\";width: 100%;border-bottom: 1px solid gray;flex-grow: 1;}#sk-container-id-2 div.sk-label:hover label.sk-toggleable__label {background-color: #d4ebff;}#sk-container-id-2 div.sk-serial::before {content: \"\";position: absolute;border-left: 1px solid gray;box-sizing: border-box;top: 0;bottom: 0;left: 50%;z-index: 0;}#sk-container-id-2 div.sk-serial {display: flex;flex-direction: column;align-items: center;background-color: white;padding-right: 0.2em;padding-left: 0.2em;position: relative;}#sk-container-id-2 div.sk-item {position: relative;z-index: 1;}#sk-container-id-2 div.sk-parallel {display: flex;align-items: stretch;justify-content: center;background-color: white;position: relative;}#sk-container-id-2 div.sk-item::before, #sk-container-id-2 div.sk-parallel-item::before {content: \"\";position: absolute;border-left: 1px solid gray;box-sizing: border-box;top: 0;bottom: 0;left: 50%;z-index: -1;}#sk-container-id-2 div.sk-parallel-item {display: flex;flex-direction: column;z-index: 1;position: relative;background-color: white;}#sk-container-id-2 div.sk-parallel-item:first-child::after {align-self: flex-end;width: 50%;}#sk-container-id-2 div.sk-parallel-item:last-child::after {align-self: flex-start;width: 50%;}#sk-container-id-2 div.sk-parallel-item:only-child::after {width: 0;}#sk-container-id-2 div.sk-dashed-wrapped {border: 1px dashed gray;margin: 0 0.4em 0.5em 0.4em;box-sizing: border-box;padding-bottom: 0.4em;background-color: white;}#sk-container-id-2 div.sk-label label {font-family: monospace;font-weight: bold;display: inline-block;line-height: 1.2em;}#sk-container-id-2 div.sk-label-container {text-align: center;}#sk-container-id-2 div.sk-container {/* jupyter's `normalize.less` sets `[hidden] { display: none; }` but bootstrap.min.css set `[hidden] { display: none !important; }` so we also need the `!important` here to be able to override the default hidden behavior on the sphinx rendered scikit-learn.org. See: https://github.com/scikit-learn/scikit-learn/issues/21755 */display: inline-block !important;position: relative;}#sk-container-id-2 div.sk-text-repr-fallback {display: none;}</style><div id=\"sk-container-id-2\" class=\"sk-top-container\"><div class=\"sk-text-repr-fallback\"><pre>Ridge(alpha=0, normalize=False)</pre><b>In a Jupyter environment, please rerun this cell to show the HTML representation or trust the notebook. <br />On GitHub, the HTML representation is unable to render, please try loading this page with nbviewer.org.</b></div><div class=\"sk-container\" hidden><div class=\"sk-item\"><div class=\"sk-estimator sk-toggleable\"><input class=\"sk-toggleable__control sk-hidden--visually\" id=\"sk-estimator-id-2\" type=\"checkbox\" checked><label for=\"sk-estimator-id-2\" class=\"sk-toggleable__label sk-toggleable__label-arrow\">Ridge</label><div class=\"sk-toggleable__content\"><pre>Ridge(alpha=0, normalize=False)</pre></div></div></div></div></div>"
      ],
      "text/plain": [
       "Ridge(alpha=0, normalize=False)"
      ]
     },
     "execution_count": 9,
     "metadata": {},
     "output_type": "execute_result"
    }
   ],
   "source": [
    "model"
   ]
  },
  {
   "cell_type": "code",
   "execution_count": 10,
   "metadata": {},
   "outputs": [],
   "source": [
    "import pickle\n",
    "pickle_out = open(\"predictor.pkl\",\"wb\")\n",
    "pickle.dump(model, pickle_out)\n",
    "pickle_out.close()"
   ]
  },
  {
   "cell_type": "code",
   "execution_count": 11,
   "metadata": {
    "execution": {
     "iopub.execute_input": "2021-09-20T22:07:51.892857Z",
     "iopub.status.busy": "2021-09-20T22:07:51.892360Z",
     "iopub.status.idle": "2021-09-20T22:07:51.917532Z",
     "shell.execute_reply": "2021-09-20T22:07:51.916515Z",
     "shell.execute_reply.started": "2021-09-20T22:07:51.892823Z"
    },
    "id": "veiwIjN1Q6dx"
   },
   "outputs": [],
   "source": [
    "def clip_prediction(test_df):\n",
    "    test_df.pred[(test_df.pred<test_df.low)] = test_df.low\n",
    "    test_df.pred[(test_df.pred>test_df.high)] = test_df.high\n",
    "    test_df.pred[(test_df.open<=0)&(test_df.high<=0)&(test_df.low<=0)] = 0\n",
    "    return test_df"
   ]
  },
  {
   "cell_type": "code",
   "execution_count": 13,
   "metadata": {
    "id": "xN8CCanUQ6d1"
   },
   "outputs": [],
   "source": [
    "import joblib\n",
    "from joblib import dump"
   ]
  },
  {
   "cell_type": "code",
   "execution_count": 14,
   "metadata": {
    "id": "WJIF1f36Q6d1"
   },
   "outputs": [
    {
     "data": {
      "text/plain": [
       "['std_scaler.bin']"
      ]
     },
     "execution_count": 14,
     "metadata": {},
     "output_type": "execute_result"
    }
   ],
   "source": [
    "dump(sc, 'std_scaler.bin', compress=True)"
   ]
  },
  {
   "cell_type": "code",
   "execution_count": 15,
   "metadata": {},
   "outputs": [
    {
     "data": {
      "text/plain": [
       "['poly_features.bin']"
      ]
     },
     "execution_count": 15,
     "metadata": {},
     "output_type": "execute_result"
    }
   ],
   "source": [
    "dump(pf, 'poly_features.bin', compress=True)"
   ]
  },
  {
   "cell_type": "code",
   "execution_count": 17,
   "metadata": {},
   "outputs": [],
   "source": [
    "from joblib import load\n",
    "sc=load('std_scaler.bin')\n",
    "pf=load('poly_features.bin')\n"
   ]
  },
  {
   "cell_type": "code",
   "execution_count": null,
   "metadata": {},
   "outputs": [],
   "source": []
  },
  {
   "cell_type": "code",
   "execution_count": null,
   "metadata": {},
   "outputs": [],
   "source": []
  },
  {
   "cell_type": "code",
   "execution_count": null,
   "metadata": {},
   "outputs": [],
   "source": []
  },
  {
   "cell_type": "code",
   "execution_count": null,
   "metadata": {},
   "outputs": [],
   "source": []
  }
 ],
 "metadata": {
  "colab": {
   "collapsed_sections": [],
   "provenance": []
  },
  "kernelspec": {
   "display_name": "Python 3",
   "language": "python",
   "name": "python3"
  },
  "language_info": {
   "codemirror_mode": {
    "name": "ipython",
    "version": 3
   },
   "file_extension": ".py",
   "mimetype": "text/x-python",
   "name": "python",
   "nbconvert_exporter": "python",
   "pygments_lexer": "ipython3",
   "version": "3.8.8"
  }
 },
 "nbformat": 4,
 "nbformat_minor": 1
}
